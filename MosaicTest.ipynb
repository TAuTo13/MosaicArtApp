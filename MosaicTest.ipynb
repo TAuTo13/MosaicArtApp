{
 "cells": [
  {
   "cell_type": "code",
   "execution_count": null,
   "metadata": {},
   "outputs": [],
   "source": [
    "import os\n",
    "import glob\n",
    "\n",
    "asp = (1, 1)\n",
    "x_num = 100\n",
    "width = 3000\n",
    "curr_dir=os.getcwd()\n",
    "folder_path = os.path.join(curr_dir,\"parts\")\n",
    "source_path = os.path.join(curr_dir,\"source\")\n",
    "save_path = os.path.join(curr_dir,\"save\")"
   ]
  },
  {
   "cell_type": "code",
   "execution_count": null,
   "metadata": {},
   "outputs": [],
   "source": [
    "from MosaicArtModule.FileManager import FileManager\n",
    "\n",
    "fileManager = FileManager()"
   ]
  },
  {
   "cell_type": "code",
   "execution_count": null,
   "metadata": {},
   "outputs": [],
   "source": [
    "#load parts images\n",
    "partsImgs = fileManager.loadImgs(folder_path)"
   ]
  },
  {
   "cell_type": "code",
   "execution_count": null,
   "metadata": {},
   "outputs": [],
   "source": [
    "from MosaicArtModule.MosaicCreator import MosaicCreator\n",
    "\n",
    "creator = MosaicCreator(partsImgs,\"CIDE2000\")"
   ]
  },
  {
   "cell_type": "code",
   "execution_count": null,
   "metadata": {},
   "outputs": [],
   "source": [
    "creator.source  = fileManager.loadImg(source_path,\"source.png\")"
   ]
  },
  {
   "cell_type": "code",
   "execution_count": null,
   "metadata": {},
   "outputs": [],
   "source": [
    "creator.initialize(width,asp,x_num)\n",
    "creator.splitSourceParts()"
   ]
  },
  {
   "cell_type": "code",
   "execution_count": null,
   "metadata": {},
   "outputs": [],
   "source": [
    "creator.arrangeParts()"
   ]
  },
  {
   "cell_type": "code",
   "execution_count": null,
   "metadata": {},
   "outputs": [],
   "source": [
    "mosaicImg=creator.generateMosaicArt()"
   ]
  },
  {
   "cell_type": "code",
   "execution_count": null,
   "metadata": {},
   "outputs": [],
   "source": [
    "fileManager.saveImg(mosaicImg,save_path,\"result_pic.png\")"
   ]
  }
 ],
 "metadata": {
  "interpreter": {
   "hash": "7befbb0b3ca64f590ca3fdf2475af8ff3440e8894d89a034d92e64869aab9d7e"
  },
  "kernelspec": {
   "display_name": "Python 3.8.5 ('base')",
   "language": "python",
   "name": "python3"
  },
  "language_info": {
   "codemirror_mode": {
    "name": "ipython",
    "version": 3
   },
   "file_extension": ".py",
   "mimetype": "text/x-python",
   "name": "python",
   "nbconvert_exporter": "python",
   "pygments_lexer": "ipython3",
   "version": "3.8.5"
  },
  "orig_nbformat": 4
 },
 "nbformat": 4,
 "nbformat_minor": 2
}
