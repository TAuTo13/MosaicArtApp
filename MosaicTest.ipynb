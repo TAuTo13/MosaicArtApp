{
 "cells": [
  {
   "cell_type": "code",
   "execution_count": 1,
   "metadata": {},
   "outputs": [],
   "source": [
    "import os\n",
    "import glob\n",
    "\n",
    "asp = (1, 1)\n",
    "x_num = 100\n",
    "width = 3000\n",
    "curr_dir=os.getcwd()\n",
    "folder_path = os.path.join(curr_dir,\"parts\")\n",
    "source_path = os.path.join(curr_dir,\"source\")\n",
    "save_path = os.path.join(curr_dir,\"save\")"
   ]
  },
  {
   "cell_type": "code",
   "execution_count": 2,
   "metadata": {},
   "outputs": [],
   "source": [
    "from MosaicArtModule.FileManager import FileManager\n",
    "\n",
    "fileManager = FileManager()"
   ]
  },
  {
   "cell_type": "code",
   "execution_count": 3,
   "metadata": {},
   "outputs": [
    {
     "name": "stdout",
     "output_type": "stream",
     "text": [
      "/Users/tadatota/Documents/GitHub/MosaicArtApp/parts/jackets/hanabi.png\n",
      "/Users/tadatota/Documents/GitHub/MosaicArtApp/parts/jackets/replay.png\n",
      "/Users/tadatota/Documents/GitHub/MosaicArtApp/parts/jackets/06_hanatareru.png\n",
      "/Users/tadatota/Documents/GitHub/MosaicArtApp/parts/jackets/1996_2000.png\n",
      "/Users/tadatota/Documents/GitHub/MosaicArtApp/parts/jackets/himawari.png\n",
      "/Users/tadatota/Documents/GitHub/MosaicArtApp/parts/jackets/kimigaitanatsu.png\n",
      "/Users/tadatota/Documents/GitHub/MosaicArtApp/parts/jackets/bolero.png\n",
      "/Users/tadatota/Documents/GitHub/MosaicArtApp/parts/jackets/hero.png\n",
      "/Users/tadatota/Documents/GitHub/MosaicArtApp/parts/jackets/seesawgame.png\n",
      "/Users/tadatota/Documents/GitHub/MosaicArtApp/parts/jackets/machinegun.png\n",
      "/Users/tadatota/Documents/GitHub/MosaicArtApp/parts/jackets/versus.png\n",
      "/Users/tadatota/Documents/GitHub/MosaicArtApp/parts/jackets/youthful_days.png\n",
      "/Users/tadatota/Documents/GitHub/MosaicArtApp/parts/jackets/09_herecomesmylove.png\n",
      "/Users/tadatota/Documents/GitHub/MosaicArtApp/parts/jackets/inori.png\n",
      "/Users/tadatota/Documents/GitHub/MosaicArtApp/parts/jackets/hana.png\n",
      "/Users/tadatota/Documents/GitHub/MosaicArtApp/parts/jackets/refrection.png\n",
      "/Users/tadatota/Documents/GitHub/MosaicArtApp/parts/jackets/shifukunooto.png\n",
      "/Users/tadatota/Documents/GitHub/MosaicArtApp/parts/jackets/everybody_goes.png\n",
      "/Users/tadatota/Documents/GitHub/MosaicArtApp/parts/jackets/home.png\n",
      "/Users/tadatota/Documents/GitHub/MosaicArtApp/parts/jackets/soundtracks.png\n",
      "/Users/tadatota/Documents/GitHub/MosaicArtApp/parts/jackets/1992_1995.png\n",
      "/Users/tadatota/Documents/GitHub/MosaicArtApp/parts/jackets/ill_be.png\n",
      "/Users/tadatota/Documents/GitHub/MosaicArtApp/parts/jackets/everything.png\n",
      "/Users/tadatota/Documents/GitHub/MosaicArtApp/parts/jackets/atomic_heart.png\n",
      "/Users/tadatota/Documents/GitHub/MosaicArtApp/parts/jackets/houkiboshi.png\n",
      "/Users/tadatota/Documents/GitHub/MosaicArtApp/parts/jackets/sign.png\n",
      "/Users/tadatota/Documents/GitHub/MosaicArtApp/parts/jackets/03_kazoeuta.png\n",
      "/Users/tadatota/Documents/GitHub/MosaicArtApp/parts/jackets/es.png\n",
      "/Users/tadatota/Documents/GitHub/MosaicArtApp/parts/jackets/kimigasuki.png\n",
      "/Users/tadatota/Documents/GitHub/MosaicArtApp/parts/jackets/eien.png\n",
      "/Users/tadatota/Documents/GitHub/MosaicArtApp/parts/jackets/sirusi.png\n",
      "/Users/tadatota/Documents/GitHub/MosaicArtApp/parts/jackets/birthday.png\n",
      "/Users/tadatota/Documents/GitHub/MosaicArtApp/parts/jackets/discovery.png\n",
      "/Users/tadatota/Documents/GitHub/MosaicArtApp/parts/jackets/micro.png\n",
      "/Users/tadatota/Documents/GitHub/MosaicArtApp/parts/jackets/tabidachinouta.png\n",
      "/Users/tadatota/Documents/GitHub/MosaicArtApp/parts/jackets/an_imitation_blood_orange.png\n",
      "/Users/tadatota/Documents/GitHub/MosaicArtApp/parts/jackets/any.png\n",
      "/Users/tadatota/Documents/GitHub/MosaicArtApp/parts/jackets/shinkai.png\n",
      "/Users/tadatota/Documents/GitHub/MosaicArtApp/parts/jackets/08_thanksgiving2003.png\n",
      "/Users/tadatota/Documents/GitHub/MosaicArtApp/parts/jackets/b-side.png\n",
      "/Users/tadatota/Documents/GitHub/MosaicArtApp/parts/jackets/supermarket_fantasy.png\n",
      "/Users/tadatota/Documents/GitHub/MosaicArtApp/parts/jackets/10_turnover.png\n",
      "/Users/tadatota/Documents/GitHub/MosaicArtApp/parts/jackets/cross_road.png\n",
      "/Users/tadatota/Documents/GitHub/MosaicArtApp/parts/jackets/no_name.png\n",
      "/Users/tadatota/Documents/GitHub/MosaicArtApp/parts/jackets/i_love_you.png\n",
      "/Users/tadatota/Documents/GitHub/MosaicArtApp/parts/jackets/its_a_wonderful_world.png\n",
      "/Users/tadatota/Documents/GitHub/MosaicArtApp/parts/jackets/sense.png\n",
      "/Users/tadatota/Documents/GitHub/MosaicArtApp/parts/jackets/05_rem.png\n",
      "/Users/tadatota/Documents/GitHub/MosaicArtApp/parts/jackets/dakishimetai.png\n",
      "/Users/tadatota/Documents/GitHub/MosaicArtApp/parts/jackets/gift.png\n",
      "/Users/tadatota/Documents/GitHub/MosaicArtApp/parts/jackets/kutibue.png\n",
      "/Users/tadatota/Documents/GitHub/MosaicArtApp/parts/jackets/01_hananonioi.png\n",
      "/Users/tadatota/Documents/GitHub/MosaicArtApp/parts/jackets/fanfare.png\n",
      "/Users/tadatota/Documents/GitHub/MosaicArtApp/parts/jackets/161059.png\n",
      "/Users/tadatota/Documents/GitHub/MosaicArtApp/parts/jackets/owarinakitabi.png\n",
      "/Users/tadatota/Documents/GitHub/MosaicArtApp/parts/jackets/tenohira.png\n",
      "/Users/tadatota/Documents/GitHub/MosaicArtApp/parts/jackets/fake.png\n",
      "/Users/tadatota/Documents/GitHub/MosaicArtApp/parts/jackets/nishihehigashie.png\n",
      "/Users/tadatota/Documents/GitHub/MosaicArtApp/parts/jackets/1_42.png\n",
      "/Users/tadatota/Documents/GitHub/MosaicArtApp/parts/jackets/4_dimensions.png\n",
      "/Users/tadatota/Documents/GitHub/MosaicArtApp/parts/jackets/everything_its_you.png\n",
      "/Users/tadatota/Documents/GitHub/MosaicArtApp/parts/jackets/hikarinosasuhoue.png\n",
      "/Users/tadatota/Documents/GitHub/MosaicArtApp/parts/jackets/not_found.png\n",
      "/Users/tadatota/Documents/GitHub/MosaicArtApp/parts/jackets/ashioto.png\n",
      "/Users/tadatota/Documents/GitHub/MosaicArtApp/parts/jackets/macro.png\n",
      "/Users/tadatota/Documents/GitHub/MosaicArtApp/parts/jackets/q.png\n",
      "/Users/tadatota/Documents/GitHub/MosaicArtApp/parts/jackets/hikarinoatlier.png\n",
      "/Users/tadatota/Documents/GitHub/MosaicArtApp/parts/jackets/tommorow_never_knows.png\n",
      "/Users/tadatota/Documents/GitHub/MosaicArtApp/parts/jackets/innocent_world.png\n"
     ]
    }
   ],
   "source": [
    "#load parts images\n",
    "partsImgs = fileManager.loadImgs(folder_path)"
   ]
  },
  {
   "cell_type": "code",
   "execution_count": 4,
   "metadata": {},
   "outputs": [
    {
     "name": "stdout",
     "output_type": "stream",
     "text": [
      "Calclator LabCIDE2000 has been selected.\n"
     ]
    }
   ],
   "source": [
    "from MosaicArtModule.MosaicCreator import MosaicCreator\n",
    "\n",
    "creator = MosaicCreator(partsImgs,\"CIDE2000\")"
   ]
  },
  {
   "cell_type": "code",
   "execution_count": 5,
   "metadata": {},
   "outputs": [
    {
     "name": "stdout",
     "output_type": "stream",
     "text": [
      "/Users/tadatota/Documents/GitHub/MosaicArtApp/source/source.png\n"
     ]
    }
   ],
   "source": [
    "creator.source  = fileManager.loadImg(source_path,\"source.png\")"
   ]
  },
  {
   "cell_type": "code",
   "execution_count": 6,
   "metadata": {},
   "outputs": [
    {
     "data": {
      "text/plain": [
       "<MosaicArtModule.ImgModule.ImgCollection at 0x7fded128de20>"
      ]
     },
     "execution_count": 6,
     "metadata": {},
     "output_type": "execute_result"
    }
   ],
   "source": [
    "creator.initialize(width,asp,x_num)\n",
    "creator.splitSourceParts()"
   ]
  },
  {
   "cell_type": "code",
   "execution_count": 7,
   "metadata": {},
   "outputs": [
    {
     "data": {
      "text/plain": [
       "<MosaicArtModule.ImgModule.ImgCollection at 0x7fdf00949cd0>"
      ]
     },
     "execution_count": 7,
     "metadata": {},
     "output_type": "execute_result"
    }
   ],
   "source": [
    "creator.arrangeParts()"
   ]
  },
  {
   "cell_type": "code",
   "execution_count": 8,
   "metadata": {},
   "outputs": [],
   "source": [
    "mosaicImg=creator.generateMosaicArt()"
   ]
  },
  {
   "cell_type": "code",
   "execution_count": 9,
   "metadata": {},
   "outputs": [
    {
     "name": "stdout",
     "output_type": "stream",
     "text": [
      "/Users/tadatota/Documents/GitHub/MosaicArtApp/save/result2.png\n"
     ]
    }
   ],
   "source": [
    "fileManager.saveImg(mosaicImg,save_path,\"result_pic.png\")"
   ]
  }
 ],
 "metadata": {
  "interpreter": {
   "hash": "7befbb0b3ca64f590ca3fdf2475af8ff3440e8894d89a034d92e64869aab9d7e"
  },
  "kernelspec": {
   "display_name": "Python 3.8.5 ('base')",
   "language": "python",
   "name": "python3"
  },
  "language_info": {
   "codemirror_mode": {
    "name": "ipython",
    "version": 3
   },
   "file_extension": ".py",
   "mimetype": "text/x-python",
   "name": "python",
   "nbconvert_exporter": "python",
   "pygments_lexer": "ipython3",
   "version": "3.8.5"
  },
  "orig_nbformat": 4
 },
 "nbformat": 4,
 "nbformat_minor": 2
}
